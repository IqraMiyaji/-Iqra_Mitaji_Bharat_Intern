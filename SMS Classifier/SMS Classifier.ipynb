{
 "cells": [
  {
   "cell_type": "markdown",
   "metadata": {},
   "source": [
    "# <u>**SMS Classifier**</u>\n",
    "Developing a text classification model to\n",
    "classify SMS as either spam or non-spam\n",
    "using data science techniques in Python."
   ]
  },
  {
   "cell_type": "code",
   "execution_count": 1,
   "metadata": {},
   "outputs": [],
   "source": [
    "#Importing all the libraries to be used\n",
    "import warnings\n",
    "import matplotlib.pyplot as plt\n",
    "import seaborn as sns\n",
    "import numpy as np \n",
    "import pandas as pd\n",
    "import re\n",
    "import nltk\n",
    "from nltk.corpus import stopwords\n",
    "from nltk.stem.porter import PorterStemmer\n",
    "from nltk.stem import WordNetLemmatizer\n",
    "from sklearn.feature_extraction.text import TfidfVectorizer\n",
    "from sklearn.preprocessing import LabelEncoder\n",
    "from sklearn.model_selection import train_test_split\n",
    "from sklearn.pipeline import Pipeline    \n",
    "from sklearn.naive_bayes import MultinomialNB\n",
    "from sklearn.ensemble import RandomForestClassifier\n",
    "from sklearn.neighbors import KNeighborsClassifier\n",
    "from sklearn.svm import SVC\n",
    "from sklearn.model_selection import cross_val_score\n",
    "from matplotlib.colors import ListedColormap\n"
   ]
  },
  {
   "cell_type": "code",
   "execution_count": 9,
   "metadata": {},
   "outputs": [],
   "source": [
    "data = pd.read_csv(r'C:\\Users\\IQRA MIYAJI\\OneDrive\\Desktop\\SMS Classifier\\SPAM text message 20170820 - Data.csv',encoding='latin1')"
   ]
  },
  {
   "cell_type": "code",
   "execution_count": 10,
   "metadata": {},
   "outputs": [
    {
     "data": {
      "text/html": [
       "<div>\n",
       "<style scoped>\n",
       "    .dataframe tbody tr th:only-of-type {\n",
       "        vertical-align: middle;\n",
       "    }\n",
       "\n",
       "    .dataframe tbody tr th {\n",
       "        vertical-align: top;\n",
       "    }\n",
       "\n",
       "    .dataframe thead th {\n",
       "        text-align: right;\n",
       "    }\n",
       "</style>\n",
       "<table border=\"1\" class=\"dataframe\">\n",
       "  <thead>\n",
       "    <tr style=\"text-align: right;\">\n",
       "      <th></th>\n",
       "      <th>Category</th>\n",
       "      <th>Message</th>\n",
       "    </tr>\n",
       "  </thead>\n",
       "  <tbody>\n",
       "    <tr>\n",
       "      <th>0</th>\n",
       "      <td>ham</td>\n",
       "      <td>Go until jurong point, crazy.. Available only ...</td>\n",
       "    </tr>\n",
       "    <tr>\n",
       "      <th>1</th>\n",
       "      <td>ham</td>\n",
       "      <td>Ok lar... Joking wif u oni...</td>\n",
       "    </tr>\n",
       "    <tr>\n",
       "      <th>2</th>\n",
       "      <td>spam</td>\n",
       "      <td>Free entry in 2 a wkly comp to win FA Cup fina...</td>\n",
       "    </tr>\n",
       "    <tr>\n",
       "      <th>3</th>\n",
       "      <td>ham</td>\n",
       "      <td>U dun say so early hor... U c already then say...</td>\n",
       "    </tr>\n",
       "    <tr>\n",
       "      <th>4</th>\n",
       "      <td>ham</td>\n",
       "      <td>Nah I don't think he goes to usf, he lives aro...</td>\n",
       "    </tr>\n",
       "  </tbody>\n",
       "</table>\n",
       "</div>"
      ],
      "text/plain": [
       "  Category                                            Message\n",
       "0      ham  Go until jurong point, crazy.. Available only ...\n",
       "1      ham                      Ok lar... Joking wif u oni...\n",
       "2     spam  Free entry in 2 a wkly comp to win FA Cup fina...\n",
       "3      ham  U dun say so early hor... U c already then say...\n",
       "4      ham  Nah I don't think he goes to usf, he lives aro..."
      ]
     },
     "execution_count": 10,
     "metadata": {},
     "output_type": "execute_result"
    }
   ],
   "source": [
    "data.head()"
   ]
  },
  {
   "cell_type": "markdown",
   "metadata": {},
   "source": [
    "What is SMS spam?  \n",
    "SMS spam is any unwanted or unsolicited text message sent indiscriminately to your mobile phone, often for commercial purposes. It can take the form of a simple message, a link to a number to call or text, a link to a website for more information or a link to a website to download an application."
   ]
  },
  {
   "cell_type": "code",
   "execution_count": 11,
   "metadata": {},
   "outputs": [
    {
     "data": {
      "text/html": [
       "<div>\n",
       "<style scoped>\n",
       "    .dataframe tbody tr th:only-of-type {\n",
       "        vertical-align: middle;\n",
       "    }\n",
       "\n",
       "    .dataframe tbody tr th {\n",
       "        vertical-align: top;\n",
       "    }\n",
       "\n",
       "    .dataframe thead th {\n",
       "        text-align: right;\n",
       "    }\n",
       "</style>\n",
       "<table border=\"1\" class=\"dataframe\">\n",
       "  <thead>\n",
       "    <tr style=\"text-align: right;\">\n",
       "      <th></th>\n",
       "      <th>Category</th>\n",
       "      <th>Message</th>\n",
       "    </tr>\n",
       "  </thead>\n",
       "  <tbody>\n",
       "    <tr>\n",
       "      <th>0</th>\n",
       "      <td>0</td>\n",
       "      <td>Go until jurong point, crazy.. Available only ...</td>\n",
       "    </tr>\n",
       "    <tr>\n",
       "      <th>1</th>\n",
       "      <td>0</td>\n",
       "      <td>Ok lar... Joking wif u oni...</td>\n",
       "    </tr>\n",
       "    <tr>\n",
       "      <th>2</th>\n",
       "      <td>1</td>\n",
       "      <td>Free entry in 2 a wkly comp to win FA Cup fina...</td>\n",
       "    </tr>\n",
       "    <tr>\n",
       "      <th>3</th>\n",
       "      <td>0</td>\n",
       "      <td>U dun say so early hor... U c already then say...</td>\n",
       "    </tr>\n",
       "    <tr>\n",
       "      <th>4</th>\n",
       "      <td>0</td>\n",
       "      <td>Nah I don't think he goes to usf, he lives aro...</td>\n",
       "    </tr>\n",
       "  </tbody>\n",
       "</table>\n",
       "</div>"
      ],
      "text/plain": [
       "   Category                                            Message\n",
       "0         0  Go until jurong point, crazy.. Available only ...\n",
       "1         0                      Ok lar... Joking wif u oni...\n",
       "2         1  Free entry in 2 a wkly comp to win FA Cup fina...\n",
       "3         0  U dun say so early hor... U c already then say...\n",
       "4         0  Nah I don't think he goes to usf, he lives aro..."
      ]
     },
     "execution_count": 11,
     "metadata": {},
     "output_type": "execute_result"
    }
   ],
   "source": [
    "le=LabelEncoder()\n",
    "data['Category']=le.fit_transform(data['Category'])\n",
    "data.head()"
   ]
  },
  {
   "cell_type": "markdown",
   "metadata": {},
   "source": [
    "## Text Cleaning Process\n",
    "\n",
    "**1. Removing Unwanted URL Links**\n",
    "URL links are often not useful in the context of text classification. They don't contribute much to the meaning of the text and can be distracting for machine learning algorithms. Therefore, the first step in cleaning the text is to remove any unwanted URL links.\n",
    "\n",
    "**2. Removing Punctuation**\n",
    "In the context of a text classifier, punctuation marks generally do not carry significant meaning and are often removed to simplify the text. Removing punctuation helps the algorithm focus on the essential content of the message.\n",
    "\n",
    "**3. Retaining Alphabets Only**\n",
    "To further streamline the text input for the machine learning algorithm, we should retain only alphabets. Numbers are not always crucial for text prediction tasks, and removing them can help in achieving better generalization.\n",
    "\n",
    "**4. Lemmatization**\n",
    "Lemmatization is the process of reducing words to their base or root form. This step is crucial for text cleaning as it helps in standardizing words and ensuring that variations of the same word are treated as a single entity. For example, lemmatizing the word \"running\" would result in \"run.\"\n",
    "\n",
    "By following these cleaning steps, we can prepare the text data in a more structured and meaningful way for machine learning algorithms, improving their accuracy and efficiency in text classification tasks.\n"
   ]
  },
  {
   "cell_type": "markdown",
   "metadata": {},
   "source": [
    "## Natural language processing to reduce words to their base or root form.\n",
    "**Stemming:**\n",
    "\n",
    "The process of stemming involves removing suffixes from words to obtain their root form. Stemming might not always produce a valid word but aims to reduce words to a common base form.\n",
    "\n",
    "Example using Porter Stemmer:\n",
    "- change\n",
    "- chang\n",
    "- chang\n",
    "- chang\n",
    "- changer\n",
    "\n",
    "**Lemmatization:**\n",
    "\n",
    "Lemmatization involves reducing words to their base or root form while ensuring that the resulting word belongs to the language. Lemmatization often requires a dictionary or knowledge of the context of the word.\n",
    "\n",
    "Example using WordNet Lemmatizer:\n",
    "- change\n",
    "- changing\n",
    "- change\n",
    "- changed\n",
    "- changer\n"
   ]
  },
  {
   "cell_type": "markdown",
   "metadata": {},
   "source": [
    "### Lemmatization"
   ]
  },
  {
   "cell_type": "code",
   "execution_count": 13,
   "metadata": {},
   "outputs": [
    {
     "name": "stderr",
     "output_type": "stream",
     "text": [
      "[nltk_data] Downloading package wordnet to C:\\Users\\IQRA\n",
      "[nltk_data]     MIYAJI\\AppData\\Roaming\\nltk_data...\n"
     ]
    }
   ],
   "source": [
    "import nltk\n",
    "nltk.download('wordnet')\n",
    "\n",
    "wordnet=WordNetLemmatizer()\n",
    "corpus=[]\n",
    "for i in range(0,len(data)):\n",
    "    review = re.sub(r'https?://\\S+|www.\\S+', '', data[\"Message\"][i])\n",
    "    review = re.sub(r'<.*?>', '', review)\n",
    "    review = re.sub(r'[^a-zA-Z]+', ' ', review)\n",
    "    review = re.sub(r'[0-9]', '', review)\n",
    "    review=review.lower()\n",
    "    review=review.split()\n",
    "    review=[str(wordnet.lemmatize(word)) for word in review if not word in stopwords.words('english')]\n",
    "    review=' '.join(review)\n",
    "    corpus.append(review)"
   ]
  },
  {
   "cell_type": "markdown",
   "metadata": {},
   "source": [
    "### Applying Machine Learning Algorithm"
   ]
  },
  {
   "cell_type": "markdown",
   "metadata": {},
   "source": [
    " Separating the dependent and independent variables:\n",
    "\n",
    "X-> Independent Variables- The Basis in which the outputs have to be calculated    \n",
    "X-> Dependent Variable-The output being calculated from the inputs"
   ]
  },
  {
   "cell_type": "code",
   "execution_count": 14,
   "metadata": {},
   "outputs": [],
   "source": [
    "y=data[\"Category\"]\n",
    "X=pd.DataFrame(corpus,columns=['text'])"
   ]
  },
  {
   "cell_type": "code",
   "execution_count": 15,
   "metadata": {},
   "outputs": [],
   "source": [
    "from sklearn.model_selection import train_test_split #spliting data into train data and test data\n",
    "X_train,X_test,y_train,y_test=train_test_split(X,y,test_size=0.2,random_state=0)"
   ]
  },
  {
   "cell_type": "code",
   "execution_count": 16,
   "metadata": {},
   "outputs": [],
   "source": [
    "from sklearn.feature_extraction.text import CountVectorizer\n",
    "cv=CountVectorizer(max_features=3000)\n",
    "train_X=cv.fit_transform(X_train['text']).toarray()\n",
    "test_X=cv.transform(X_test['text']).toarray()"
   ]
  },
  {
   "cell_type": "code",
   "execution_count": 17,
   "metadata": {},
   "outputs": [
    {
     "data": {
      "text/plain": [
       "array([[0, 0, 0, ..., 0, 0, 0],\n",
       "       [0, 0, 0, ..., 0, 0, 0],\n",
       "       [0, 0, 0, ..., 0, 0, 0],\n",
       "       ...,\n",
       "       [0, 0, 0, ..., 0, 0, 0],\n",
       "       [0, 0, 0, ..., 0, 0, 0],\n",
       "       [0, 0, 0, ..., 0, 0, 0]], dtype=int64)"
      ]
     },
     "execution_count": 17,
     "metadata": {},
     "output_type": "execute_result"
    }
   ],
   "source": [
    "train_X"
   ]
  },
  {
   "cell_type": "code",
   "execution_count": 18,
   "metadata": {},
   "outputs": [
    {
     "name": "stdout",
     "output_type": "stream",
     "text": [
      "(4457, 3000)\n",
      "(1115, 3000)\n",
      "(4457,)\n",
      "(1115,)\n"
     ]
    }
   ],
   "source": [
    "print(train_X.shape)\n",
    "print(test_X.shape)\n",
    "print(y_train.shape)\n",
    "print(y_test.shape)"
   ]
  },
  {
   "cell_type": "code",
   "execution_count": 19,
   "metadata": {},
   "outputs": [],
   "source": [
    "from sklearn.naive_bayes import MultinomialNB\n",
    "nb=MultinomialNB().fit(train_X,y_train)\n",
    "y_pred_nb=nb.predict(test_X)"
   ]
  },
  {
   "cell_type": "code",
   "execution_count": 20,
   "metadata": {},
   "outputs": [
    {
     "data": {
      "text/plain": [
       "<Axes: >"
      ]
     },
     "execution_count": 20,
     "metadata": {},
     "output_type": "execute_result"
    },
    {
     "data": {
      "image/png": "[encoded data removed]",
      "text/plain": [
       "<Figure size 640x480 with 2 Axes>"
      ]
     },
     "metadata": {},
     "output_type": "display_data"
    }
   ],
   "source": [
    "import seaborn as sns\n",
    "from sklearn.metrics import confusion_matrix\n",
    "cm=confusion_matrix(y_test,y_pred_nb)\n",
    "sns.heatmap(cm,cmap='BuPu',annot=True,fmt='d')"
   ]
  },
  {
   "cell_type": "markdown",
   "metadata": {},
   "source": [
    "**Observations:**\n",
    "\n",
    "It's time to analyze the results of the classification model:\n",
    "\n",
    "- 948 Non-Spam emails have been correctly classified.\n",
    "- 149 Spam emails have been correctly classified.\n",
    "- 7 Non-Spam emails have been classified as Spam mails (False Positives or Type I Error).\n",
    "- 11 Spam emails have been classified as Non-Spam (False Negatives or Type II Error).\n",
    "\n",
    "These observations provide a breakdown of the model's performance on both spam and non-spam emails. Understanding false positives and false negatives is crucial for evaluating the effectiveness of the classification model. \n",
    "\n",
    "Before delving deeper into the analysis, let's proceed to explore the results of the next model!\n"
   ]
  },
  {
   "cell_type": "markdown",
   "metadata": {},
   "source": [
    "### Applying Random forest."
   ]
  },
  {
   "cell_type": "code",
   "execution_count": 21,
   "metadata": {},
   "outputs": [
    {
     "data": {
      "text/plain": [
       "<Axes: >"
      ]
     },
     "execution_count": 21,
     "metadata": {},
     "output_type": "execute_result"
    },
    {
     "data": {
      "image/png": "[encoded data removed]",
      "text/plain": [
       "<Figure size 640x480 with 2 Axes>"
      ]
     },
     "metadata": {},
     "output_type": "display_data"
    }
   ],
   "source": [
    "from sklearn.ensemble import RandomForestClassifier\n",
    "rfc=RandomForestClassifier(random_state=0).fit(train_X,y_train)\n",
    "y_pred_rfc=rfc.predict(test_X)\n",
    "cm=confusion_matrix(y_test,y_pred_rfc)\n",
    "sns.heatmap(cm,cmap='BuPu',annot=True,fmt='d')"
   ]
  },
  {
   "cell_type": "markdown",
   "metadata": {},
   "source": [
    "**Observations:**\n",
    "\n",
    "Comparing the results using the Random Forest Classifier:\n",
    "\n",
    "- 955 Non-Spam emails have been correctly classified.\n",
    "- 141 Spam emails have been correctly classified.\n",
    "- 0 Non-Spam emails have been classified as Spam mails (False Positives or Type I Error).\n",
    "- 19 Spam emails have been classified as Non-Spam (False Negatives or Type II Error).\n",
    "\n",
    "Now that we have the results from both models, it's a crucial step to understand and analyze the performance of each model. Key metrics such as accuracy, precision, recall, and F1-score can provide a more comprehensive evaluation. Additionally, considering the specific requirements of your task will help in determining which model is more suitable for the given classification problem.\n",
    "\n",
    "Further analysis may involve comparing the confusion matrices, calculating precision, recall, accuracy, and exploring any potential trade-offs between false positives and false negatives. These insights will guide decisions on model selection and potential improvements to achieve better performance.\n"
   ]
  },
  {
   "cell_type": "markdown",
   "metadata": {},
   "source": [
    "## Understanding the Results  \n",
    "Now since, we have checked the outputs from the two algorithms- the main question that arises is- which model is better?\n",
    "\n",
    "The best approach in order to undertsand and estimate this is by evaluating the mtrics. Usually the metrics to evaluate the performance of a Classification Problem are- Precision and Recall\n",
    "![Calculation of Precision, Recall, and Accuracy](https://www.researchgate.net/publication/336402347/figure/fig3/AS:812472659349505@1570719985505/Calculation-of-Precision-Recall-and-Accuracy-in-the-confusion-matrix.ppm)\n"
   ]
  },
  {
   "cell_type": "code",
   "execution_count": 22,
   "metadata": {},
   "outputs": [
    {
     "name": "stdout",
     "output_type": "stream",
     "text": [
      "******** Naive Bayes Classifier **********\n",
      "Precision Score:  0.9551282051282052\n",
      "Recall Score:  0.93125\n",
      "****************************************\n",
      "******** Random Forest Classifier **********\n",
      "Precision Score:  1.0\n",
      "Recall Score:  0.88125\n"
     ]
    }
   ],
   "source": [
    "from sklearn.metrics import precision_score\n",
    "from sklearn.metrics import recall_score\n",
    "print('******** Naive Bayes Classifier **********')\n",
    "print('Precision Score: ',precision_score(y_test,y_pred_nb))\n",
    "print('Recall Score: ',recall_score(y_test,y_pred_nb))\n",
    "print('****************************************')\n",
    "print('******** Random Forest Classifier **********')\n",
    "print('Precision Score: ',precision_score(y_test,y_pred_rfc))\n",
    "print('Recall Score: ',recall_score(y_test,y_pred_rfc))"
   ]
  }
 ],
 "metadata": {
  "kernelspec": {
   "display_name": "Python 3",
   "language": "python",
   "name": "python3"
  },
  "language_info": {
   "codemirror_mode": {
    "name": "ipython",
    "version": 3
   },
   "file_extension": ".py",
   "mimetype": "text/x-python",
   "name": "python",
   "nbconvert_exporter": "python",
   "pygments_lexer": "ipython3",
   "version": "3.11.5"
  }
 },
 "nbformat": 4,
 "nbformat_minor": 2
}
